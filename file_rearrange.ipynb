{
 "cells": [
  {
   "cell_type": "markdown",
   "metadata": {},
   "source": [
    "# File moving and rearranging (04-12-2020)\n",
    "In this notebook, we do a few things in order to get the DICOMS rearranged into the structure that we need to run `heudiconv` on the cluster so that we can have the `.nii` files we need to run `fMRIPrep`.\n",
    "\n",
    "1. We create a folder using the `mkdir` command (the `!` at the beginning of the cell signifies that we will be running the contents of the cell in bash instead of python)\n",
    "2. Create a list of the folders that correspond to each subject (`subs`), then use a string operation on this list (`sub.split()`) to create a `sublist` containing just the subject number for each subject. \n",
    "3. Use this `sublist` to create more directories (using `os.mkdir()` since we have to embed the command in python code)\n",
    "4. Create variables for each file category containing each of the files that we want to move. We acquire these lists using `glob`.\n",
    "5. Move and rearrange the files (detailed below)."
   ]
  },
  {
   "cell_type": "code",
   "execution_count": 1,
   "metadata": {},
   "outputs": [],
   "source": [
    "import glob\n",
    "import os\n",
    "import tarfile"
   ]
  },
  {
   "cell_type": "code",
   "execution_count": null,
   "metadata": {},
   "outputs": [],
   "source": [
    "# !mkdir \"../collab_files/rearranged_data\""
   ]
  },
  {
   "cell_type": "code",
   "execution_count": 3,
   "metadata": {},
   "outputs": [],
   "source": [
    "subs = glob.glob(\"../[0-3][0-9]\")"
   ]
  },
  {
   "cell_type": "code",
   "execution_count": 5,
   "metadata": {},
   "outputs": [],
   "source": [
    "sublist=[]\n",
    "for sub in subs:\n",
    "    s = sub.split(\"/\")[-1]\n",
    "    sublist.append(s)"
   ]
  },
  {
   "cell_type": "markdown",
   "metadata": {},
   "source": [
    "Making directories for each subject in the `rearranged_files` directory"
   ]
  },
  {
   "cell_type": "code",
   "execution_count": 6,
   "metadata": {},
   "outputs": [
    {
     "name": "stdout",
     "output_type": "stream",
     "text": [
      "making directory rearranged_data/sub-18\n",
      "making directory rearranged_data/sub-13\n",
      "making directory rearranged_data/sub-21\n",
      "making directory rearranged_data/sub-17\n",
      "making directory rearranged_data/sub-20\n",
      "making directory rearranged_data/sub-06\n",
      "making directory rearranged_data/sub-14\n",
      "making directory rearranged_data/sub-09\n",
      "making directory rearranged_data/sub-23\n",
      "making directory rearranged_data/sub-15\n",
      "making directory rearranged_data/sub-05\n",
      "making directory rearranged_data/sub-28\n",
      "making directory rearranged_data/sub-19\n",
      "making directory rearranged_data/sub-01\n",
      "making directory rearranged_data/sub-07\n",
      "making directory rearranged_data/sub-04\n",
      "making directory rearranged_data/sub-02\n",
      "making directory rearranged_data/sub-10\n",
      "making directory rearranged_data/sub-26\n",
      "making directory rearranged_data/sub-12\n",
      "making directory rearranged_data/sub-29\n",
      "making directory rearranged_data/sub-11\n",
      "making directory rearranged_data/sub-03\n",
      "making directory rearranged_data/sub-27\n",
      "making directory rearranged_data/sub-25\n",
      "making directory rearranged_data/sub-22\n",
      "making directory rearranged_data/sub-30\n",
      "making directory rearranged_data/sub-08\n",
      "making directory rearranged_data/sub-16\n",
      "making directory rearranged_data/sub-24\n"
     ]
    }
   ],
   "source": [
    "for sub in sublist:\n",
    "#     os.mkdir(\"rearranged_data/sub-\"+sub)\n",
    "    print(\"making directory \"+\"rearranged_data/sub-\"+sub)"
   ]
  },
  {
   "cell_type": "code",
   "execution_count": 7,
   "metadata": {},
   "outputs": [],
   "source": [
    "bold_files = glob.glob(\"../[0-3][0-9]/*/EP2D_PACE_MOCO_RUN*/*\")\n",
    "t1s = glob.glob(\"../[0-3][0-9]/*/T1_MPRAGE_SAG_P2_ISO_0_9_0005/*\")\n",
    "DTIs1 = glob.glob(\"../[0-3][0-9]/*/EP2D_DIFF_MDDW_64_P2_TENSOR_0025/*\")\n",
    "DTIs2 = glob.glob(\"../[0-3][0-9]/*/EP2D_DIFF_MDDW_64_P2_TRACEW_0022/*\")"
   ]
  },
  {
   "cell_type": "markdown",
   "metadata": {},
   "source": [
    "## Doing the file moving and rearranging\n",
    "In the below three cells, we do the following three things `for` each subject in our `sublist`:\n",
    "1. Create a list of the `bold_files` that we have for the subject\n",
    "2. `for` each of these bold files, we create a new name for the file that leaves out anything before the filename itself (`new_name`), then add the file to a `tar` file that is located in the correct directory.\n",
    "3. Once all of the files are added, we `untar` the files through the `tar.extractall()` function\n",
    "4. Delete the old tarfile since we don't need it any more. \n",
    "5. `print()` that we are done with that particular subject so we can keep an eye on the progress of the mover."
   ]
  },
  {
   "cell_type": "code",
   "execution_count": null,
   "metadata": {
    "scrolled": true
   },
   "outputs": [
    {
     "name": "stdout",
     "output_type": "stream",
     "text": [
      "Finished moving files for sub sub-18!\n",
      "Finished moving files for sub sub-13!\n",
      "Finished moving files for sub sub-21!\n",
      "Finished moving files for sub sub-17!\n",
      "Finished moving files for sub sub-20!\n",
      "Finished moving files for sub sub-06!\n",
      "Finished moving files for sub sub-14!\n",
      "Finished moving files for sub sub-09!\n",
      "Finished moving files for sub sub-23!\n",
      "Finished moving files for sub sub-15!\n",
      "Finished moving files for sub sub-05!\n"
     ]
    }
   ],
   "source": [
    "for sub in sublist:\n",
    "    bold_files = glob.glob(f\"../{sub}/*/EP2D_PACE_MOCO_RUN*/*\")\n",
    "    with tarfile.open(f\"./rearranged_data/sub-{sub}/bold_files.tar.gz\", \"w:gz\") as tar:\n",
    "        for f in bold_files:\n",
    "            new_name = f.split(\"/\")[-1]\n",
    "            tar.add(f, arcname = new_name)\n",
    "    tf = tarfile.open(f\"./rearranged_data/sub-{sub}/bold_files.tar.gz\")\n",
    "    tf.extractall(f\"./rearranged_data/sub-{sub}/\")\n",
    "    os.remove(f\"./rearranged_data/sub-{sub}/bold_files.tar.gz\")\n",
    "    print(f\"Finished moving files for sub sub-{sub}!\")"
   ]
  },
  {
   "cell_type": "code",
   "execution_count": null,
   "metadata": {},
   "outputs": [],
   "source": [
    "for sub in sublist:\n",
    "    t1s = glob.glob(f\"../[0-3][0-9]/{sub}/T1_MPRAGE_SAG_P2_ISO_0_9_0005/*\")\n",
    "    with tarfile.open(f\"./rearranged_data/sub-{sub}/t1s.tar.gz\", \"w:gz\") as tar:\n",
    "        for f in t1s:\n",
    "            new_name = f.split(\"/\")[-1]\n",
    "            tar.add(f, arcname = new_name)\n",
    "    tf = tarfile.open(f\"./rearranged_data/sub-{sub}/t1s.tar.gz\")\n",
    "    tf.extractall(f\"./rearranged_data/sub-{sub}/\")\n",
    "    os.remove(f\"./rearranged_data/sub-{sub}/t1s.tar.gz\")\n",
    "    print(f\"Finished moving T1 files for sub sub-{sub}!\")"
   ]
  },
  {
   "cell_type": "code",
   "execution_count": null,
   "metadata": {},
   "outputs": [],
   "source": [
    "for sub in sublist:\n",
    "    DTIs1 = glob.glob(f\"../[0-3][0-9]/{sub}/EP2D_DIFF_MDDW_64_P2_TENSOR_0025/*\")\n",
    "    DTIs2 = glob.glob(f\"../[0-3][0-9]/{sub}/EP2D_DIFF_MDDW_64_P2_TRACEW_0022/*\")\n",
    "    DTIs = DTIs1 + DTIs2\n",
    "    with tarfile.open(f\"./rearranged_data/sub-{sub}/DTIs.tar.gz\", \"w:gz\") as tar:\n",
    "        for f in DTIs:\n",
    "            new_name = f.split(\"/\")[-1]\n",
    "            tar.add(f, arcname = new_name)\n",
    "    tf = tarfile.open(f\"./rearranged_data/sub-{sub}/DTIs.tar.gz\")\n",
    "    tf.extractall(f\"./rearranged_data/sub-{sub}/DTIs.tar.gz\")\n",
    "    os.remove(f\"./rearranged_data/sub-{sub}/DTIs.tar.gz\")\n",
    "    print(f\"Finished moving DTI files for sub sub-{sub}!\")"
   ]
  },
  {
   "cell_type": "code",
   "execution_count": null,
   "metadata": {},
   "outputs": [],
   "source": []
  }
 ],
 "metadata": {
  "kernelspec": {
   "display_name": "Python 3",
   "language": "python",
   "name": "python3"
  },
  "language_info": {
   "codemirror_mode": {
    "name": "ipython",
    "version": 3
   },
   "file_extension": ".py",
   "mimetype": "text/x-python",
   "name": "python",
   "nbconvert_exporter": "python",
   "pygments_lexer": "ipython3",
   "version": "3.7.4"
  }
 },
 "nbformat": 4,
 "nbformat_minor": 4
}
