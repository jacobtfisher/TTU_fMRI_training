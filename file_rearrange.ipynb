{
 "cells": [
  {
   "cell_type": "markdown",
   "metadata": {},
   "source": [
    "# File moving and rearranging (04-12-2020)\n",
    "In this notebook, we do a few things in order to get the DICOMS rearranged into the structure that we need to run `heudiconv` on the cluster so that we can have the `.nii` files we need to run `fMRIPrep`.\n",
    "\n",
    "1. We create a folder using the `mkdir` command (the `!` at the beginning of the cell signifies that we will be running the contents of the cell in bash instead of python)\n",
    "2. Create a list of the folders that correspond to each subject (`subs`), then use a string operation on this list (`sub.split()`) to create a `sublist` containing just the subject number for each subject. \n",
    "3. Use this `sublist` to create more directories (using `os.mkdir()` since we have to embed the command in python code)\n",
    "4. Create variables for each file category containing each of the files that we want to move. We acquire these lists using `glob`.\n",
    "5. Move and rearrange the files (detailed below)."
   ]
  },
  {
   "cell_type": "code",
   "execution_count": 1,
   "metadata": {},
   "outputs": [],
   "source": [
    "import glob\n",
    "import os\n",
    "import tarfile\n",
    "import numpy as np"
   ]
  },
  {
   "cell_type": "code",
   "execution_count": 6,
   "metadata": {},
   "outputs": [
    {
     "name": "stdout",
     "output_type": "stream",
     "text": [
      "/lustre/scratch/mzielins/collab_files/code\n"
     ]
    }
   ],
   "source": [
    "# ! pwd"
   ]
  },
  {
   "cell_type": "code",
   "execution_count": 8,
   "metadata": {},
   "outputs": [],
   "source": [
    "os.chdir(\"../\")"
   ]
  },
  {
   "cell_type": "code",
   "execution_count": 8,
   "metadata": {},
   "outputs": [],
   "source": [
    "# !mkdir \"dicomdir\""
   ]
  },
  {
   "cell_type": "code",
   "execution_count": 7,
   "metadata": {},
   "outputs": [],
   "source": [
    "subs = glob.glob(\"../../[0-3][0-9]\")"
   ]
  },
  {
   "cell_type": "code",
   "execution_count": 8,
   "metadata": {},
   "outputs": [],
   "source": [
    "sublist=[]\n",
    "for sub in subs:\n",
    "    s = sub.split(\"/\")[-1]\n",
    "    sublist.append(s)"
   ]
  },
  {
   "cell_type": "code",
   "execution_count": 9,
   "metadata": {},
   "outputs": [
    {
     "data": {
      "text/plain": [
       "['18',\n",
       " '13',\n",
       " '21',\n",
       " '17',\n",
       " '20',\n",
       " '06',\n",
       " '14',\n",
       " '09',\n",
       " '23',\n",
       " '15',\n",
       " '05',\n",
       " '28',\n",
       " '19',\n",
       " '01',\n",
       " '07',\n",
       " '04',\n",
       " '02',\n",
       " '10',\n",
       " '26',\n",
       " '12',\n",
       " '29',\n",
       " '11',\n",
       " '03',\n",
       " '27',\n",
       " '25',\n",
       " '22',\n",
       " '30',\n",
       " '08',\n",
       " '16',\n",
       " '24']"
      ]
     },
     "execution_count": 9,
     "metadata": {},
     "output_type": "execute_result"
    }
   ],
   "source": [
    "sublist"
   ]
  },
  {
   "cell_type": "markdown",
   "metadata": {},
   "source": [
    "Making directories for each subject in the `rearranged_files` directory"
   ]
  },
  {
   "cell_type": "code",
   "execution_count": 5,
   "metadata": {},
   "outputs": [],
   "source": [
    "for sub in sublist:\n",
    "#     os.mkdir(\"dicomdir/sub-\"+sub)\n",
    "    print(\"making directory \"+\"dicomdir/sub-\"+sub)"
   ]
  },
  {
   "cell_type": "code",
   "execution_count": 9,
   "metadata": {},
   "outputs": [],
   "source": [
    "bold_files = glob.glob(\"../[0-3][0-9]/*/EP2D_PACE_MOCO_RUN*/*\")\n",
    "t1s = glob.glob(\"../[0-3][0-9]/*/T1_MPRAGE_SAG_P2_ISO_0_9_0005/*\")\n",
    "DTIs1 = glob.glob(\"../[0-3][0-9]/*/EP2D_DIFF_MDDW_64_P2_TENSOR_0025/*\")\n",
    "DTIs2 = glob.glob(\"../[0-3][0-9]/*/EP2D_DIFF_MDDW_64_P2_TRACEW_0022/*\")"
   ]
  },
  {
   "cell_type": "markdown",
   "metadata": {},
   "source": [
    "## Doing the file moving and rearranging\n",
    "In the below three cells, we do the following three things `for` each subject in our `sublist`:\n",
    "1. Create a list of the `bold_files` that we have for the subject\n",
    "2. `for` each of these bold files, we create a new name for the file that leaves out anything before the filename itself (`new_name`), then add the file to a `tar` file that is located in the correct directory.\n",
    "3. Once all of the files are added, we `untar` the files through the `tar.extractall()` function\n",
    "4. Delete the old tarfile since we don't need it any more. \n",
    "5. `print()` that we are done with that particular subject so we can keep an eye on the progress of the mover."
   ]
  },
  {
   "cell_type": "code",
   "execution_count": null,
   "metadata": {
    "scrolled": true
   },
   "outputs": [],
   "source": [
    "for sub in sublist:\n",
    "    if sub == \"01\":\n",
    "        bold_files = glob.glob(\"../01/*/EP2D_PACE_MOCO_RUN*/*\")\n",
    "        bold_dupes = [f for f in bold_files if \"2019.08.02\" in f]\n",
    "        bold_files = [f for f in bold_files if f not in bold_dupes]\n",
    "    elif sub == \"18\":\n",
    "        bold_files = glob.glob(\"../18/*/EP2D_PACE_MOCO_RUN*/*\")\n",
    "        run1_dupes = [f for f in bold_files if \"RUN1\" in f and \"2019.09.23.14.44\" in f]\n",
    "        run2_dupes = [f for f in bold_files if \"RUN2\" in f and \"2019.09.23.14.35\" in f]\n",
    "        bold_files = [f for f in bold_files if f not in run1_dupes and f not in run2_dupes]\n",
    "    elif sub == \"20\":\n",
    "        run1_files = glob.glob(\"../20/*/EP2D_PACE_MOCO_RUN1_2*/*\")\n",
    "        run2_files = glob.glob(\"../20/*/EP2D_PACE_MOCO_RUN2*/*\")\n",
    "        bold_files = run1_files + run2_files\n",
    "    else:\n",
    "        bold_files = glob.glob(f\"../{sub}/*/EP2D_PACE_MOCO_RUN*/*\")\n",
    "    with tarfile.open(f\"./dicomdir/sub-{sub}/bold_files.tar.gz\", \"w:gz\") as tar:\n",
    "        for f in bold_files:\n",
    "            new_name = f.split(\"/\")[-1]\n",
    "            tar.add(f, arcname = new_name)\n",
    "    nfiles = len(bold_files)\n",
    "    tf = tarfile.open(f\"./dicomdir/sub-{sub}/bold_files.tar.gz\")\n",
    "    tf.extractall(f\"./dicomdir/sub-{sub}/\")\n",
    "    os.remove(f\"./dicomdir/sub-{sub}/bold_files.tar.gz\")\n",
    "    print(f\"Finished moving {nfiles} files for sub-{sub}!\")"
   ]
  },
  {
   "cell_type": "code",
   "execution_count": 13,
   "metadata": {},
   "outputs": [
    {
     "name": "stdout",
     "output_type": "stream",
     "text": [
      "Finished moving 192 T1 files for sub-18!\n",
      "Finished moving 192 T1 files for sub-13!\n",
      "Finished moving 192 T1 files for sub-21!\n",
      "Finished moving 192 T1 files for sub-17!\n",
      "Finished moving 192 T1 files for sub-20!\n",
      "Finished moving 192 T1 files for sub-06!\n",
      "Finished moving 192 T1 files for sub-14!\n",
      "Finished moving 192 T1 files for sub-09!\n",
      "Finished moving 192 T1 files for sub-23!\n",
      "Finished moving 192 T1 files for sub-15!\n",
      "Finished moving 192 T1 files for sub-05!\n",
      "Finished moving 192 T1 files for sub-28!\n",
      "Finished moving 192 T1 files for sub-19!\n",
      "Finished moving 192 T1 files for sub-01!\n",
      "Finished moving 192 T1 files for sub-07!\n",
      "Finished moving 192 T1 files for sub-04!\n",
      "Finished moving 192 T1 files for sub-02!\n",
      "Finished moving 192 T1 files for sub-10!\n",
      "Finished moving 192 T1 files for sub-26!\n",
      "Finished moving 192 T1 files for sub-12!\n",
      "Finished moving 192 T1 files for sub-29!\n",
      "Finished moving 192 T1 files for sub-11!\n",
      "Finished moving 192 T1 files for sub-03!\n",
      "Finished moving 192 T1 files for sub-27!\n",
      "Finished moving 192 T1 files for sub-25!\n",
      "Finished moving 192 T1 files for sub-22!\n",
      "Finished moving 192 T1 files for sub-30!\n",
      "Finished moving 192 T1 files for sub-08!\n",
      "Finished moving 192 T1 files for sub-16!\n",
      "Finished moving 192 T1 files for sub-24!\n"
     ]
    }
   ],
   "source": [
    "for sub in sublist:\n",
    "    if sub == \"01\":\n",
    "        T1s = glob.glob(\"../01/*/T1_MPRAGE*/*\")\n",
    "        T1_dupes = [f for f in T1s if \"2019.08.02\" in f]\n",
    "        T1s = [f for f in T1s if f not in T1_dupes]\n",
    "    elif sub == \"18\":\n",
    "        T1s = glob.glob(\"../18/*/T1_MPRAGE*/*\")\n",
    "        T1_dupes = [f for f in T1s if \"2019.09.23.14.35\" in f]\n",
    "        T1s = [f for f in T1s if f not in T1_dupes]\n",
    "    else:\n",
    "        T1s = glob.glob(f\"../{sub}/*/T1_MPRAGE*/*\")\n",
    "    with tarfile.open(f\"./dicomdir/sub-{sub}/t1s.tar.gz\", \"w:gz\") as tar:\n",
    "        for f in T1s:\n",
    "            new_name = f.split(\"/\")[-1]\n",
    "            tar.add(f, arcname = new_name)\n",
    "    nfiles = len(T1s)\n",
    "    tf = tarfile.open(f\"./dicomdir/sub-{sub}/t1s.tar.gz\")\n",
    "    tf.extractall(f\"./dicomdir/sub-{sub}/\")\n",
    "    os.remove(f\"./dicomdir/sub-{sub}/t1s.tar.gz\")\n",
    "    print(f\"Finished moving {nfiles} T1 files for sub-{sub}!\")"
   ]
  },
  {
   "cell_type": "code",
   "execution_count": 14,
   "metadata": {},
   "outputs": [
    {
     "name": "stdout",
     "output_type": "stream",
     "text": [
      "Finished moving 38 DTI files for sub-18!\n",
      "Finished moving 38 DTI files for sub-13!\n",
      "Finished moving 38 DTI files for sub-21!\n",
      "Finished moving 38 DTI files for sub-17!\n",
      "Finished moving 38 DTI files for sub-20!\n",
      "Finished moving 38 DTI files for sub-06!\n",
      "Finished moving 38 DTI files for sub-14!\n",
      "Finished moving 38 DTI files for sub-09!\n",
      "Finished moving 38 DTI files for sub-23!\n",
      "Finished moving 38 DTI files for sub-15!\n",
      "Finished moving 38 DTI files for sub-05!\n",
      "Finished moving 38 DTI files for sub-28!\n",
      "Finished moving 38 DTI files for sub-19!\n",
      "Finished moving 38 DTI files for sub-01!\n",
      "Finished moving 38 DTI files for sub-07!\n",
      "Finished moving 38 DTI files for sub-04!\n",
      "Finished moving 38 DTI files for sub-02!\n",
      "Finished moving 38 DTI files for sub-10!\n",
      "Finished moving 0 DTI files for sub-26!\n",
      "Finished moving 38 DTI files for sub-12!\n",
      "Finished moving 38 DTI files for sub-29!\n",
      "Finished moving 38 DTI files for sub-11!\n",
      "Finished moving 38 DTI files for sub-03!\n",
      "Finished moving 38 DTI files for sub-27!\n",
      "Finished moving 38 DTI files for sub-25!\n",
      "Finished moving 38 DTI files for sub-22!\n",
      "Finished moving 38 DTI files for sub-30!\n",
      "Finished moving 38 DTI files for sub-08!\n",
      "Finished moving 38 DTI files for sub-16!\n",
      "Finished moving 38 DTI files for sub-24!\n"
     ]
    }
   ],
   "source": [
    "for sub in sublist:\n",
    "    DTIs1 = glob.glob(f\"../{sub}/*/EP2D_DIFF_MDDW_64_P2_TENSOR*/*\")\n",
    "    DTIs2 = glob.glob(f\"../{sub}/*/EP2D_DIFF_MDDW_64_P2_TRACEW*/*\")\n",
    "    DTIs = DTIs1 + DTIs2\n",
    "    nfiles = len(DTIs)\n",
    "    with tarfile.open(f\"./dicomdir/sub-{sub}/DTIs.tar.gz\", \"w:gz\") as tar:\n",
    "        for f in DTIs:\n",
    "            new_name = f.split(\"/\")[-1]\n",
    "            tar.add(f, arcname = new_name)\n",
    "    tf = tarfile.open(f\"./dicomdir/sub-{sub}/DTIs.tar.gz\")\n",
    "    tf.extractall(f\"./dicomdir/sub-{sub}/\")\n",
    "    os.remove(f\"./dicomdir/sub-{sub}/DTIs.tar.gz\")\n",
    "    print(f\"Finished moving {nfiles} DTI files for sub-{sub}!\")"
   ]
  },
  {
   "cell_type": "markdown",
   "metadata": {},
   "source": [
    "## Catching subject 20's non-standard file structure\n",
    "There was a typo in the code for moving subject 20's data around so I'm just going to re-do subject 20 here. If we re-run all of the file moving code above it should be fixed and we don't have to run this again."
   ]
  },
  {
   "cell_type": "code",
   "execution_count": 19,
   "metadata": {},
   "outputs": [],
   "source": [
    "data_dir = \"/lustre/scratch/mzielins\"\n",
    "out_dir = data_dir + \"/collab_files/dicomdir\""
   ]
  },
  {
   "cell_type": "code",
   "execution_count": 21,
   "metadata": {},
   "outputs": [
    {
     "name": "stdout",
     "output_type": "stream",
     "text": [
      "Finished moving 192 T1 files for sub-20!\n",
      "Finished moving 392 files for sub-20!\n",
      "Finished moving 392 DTI files for sub-20!\n"
     ]
    }
   ],
   "source": [
    "T1s = glob.glob(data_dir + \"/20/*/T1_MPRAGE*/*\")\n",
    "nfiles = len(T1s)\n",
    "\n",
    "run1_files = glob.glob(data_dir + \"/20/*/EP2D_PACE_MOCO_RUN1_2*/*\")\n",
    "run2_files = glob.glob(data_dir + \"/20/*/EP2D_PACE_MOCO_RUN2*/*\")\n",
    "bold_files = run1_files + run2_files\n",
    "\n",
    "DTIs1 = glob.glob(data_dir + \"/20/*/EP2D_DIFF_MDDW_64_P2_TENSOR*/*\")\n",
    "DTIs2 = glob.glob(data_dir + \"/20/*/EP2D_DIFF_MDDW_64_P2_TRACEW*/*\")\n",
    "DTIs = DTIs1 + DTIs2\n",
    "\n",
    "# Processing T1s\n",
    "with tarfile.open(out_dir + \"/sub-20/t1s.tar.gz\", \"w:gz\") as tar:\n",
    "        for f in T1s:\n",
    "            new_name = f.split(\"/\")[-1]\n",
    "            tar.add(f, arcname = new_name)\n",
    "            \n",
    "\n",
    "tf = tarfile.open(out_dir + \"/sub-20/t1s.tar.gz\")\n",
    "tf.extractall(out_dir + \"/sub-20/\")\n",
    "os.remove(out_dir + \"/sub-20/t1s.tar.gz\")\n",
    "print(f\"Finished moving {nfiles} T1 files for sub-20!\")\n",
    "\n",
    "# Processing BOLD Files\n",
    "\n",
    "with tarfile.open(out_dir + \"/sub-20/bold_files.tar.gz\", \"w:gz\") as tar:\n",
    "    for f in bold_files:\n",
    "        new_name = f.split(\"/\")[-1]\n",
    "        tar.add(f, arcname = new_name)\n",
    "nfiles = len(bold_files)\n",
    "tf = tarfile.open(out_dir + \"/sub-20/bold_files.tar.gz\")\n",
    "tf.extractall(out_dir + \"/sub-20/\")\n",
    "os.remove(out_dir + \"/sub-20/bold_files.tar.gz\")\n",
    "print(f\"Finished moving {nfiles} BOLD files for sub-20!\")\n",
    "\n",
    "# Processing DTI Files\n",
    "with tarfile.open(out_dir + \"/sub-20/DTIs.tar.gz\", \"w:gz\") as tar:\n",
    "    for f in DTIs:\n",
    "        new_name = f.split(\"/\")[-1]\n",
    "        tar.add(f, arcname = new_name)\n",
    "        \n",
    "tf = tarfile.open(out_dir + \"/sub-20/DTIs.tar.gz\")\n",
    "tf.extractall(out_dir + \"/sub-20/\")\n",
    "os.remove(out_dir + \"/sub-20/DTIs.tar.gz\")\n",
    "print(f\"Finished moving {nfiles} DTI files for sub-20!\")"
   ]
  },
  {
   "cell_type": "code",
   "execution_count": null,
   "metadata": {},
   "outputs": [],
   "source": []
  }
 ],
 "metadata": {
  "kernelspec": {
   "display_name": "Python 3",
   "language": "python",
   "name": "python3"
  },
  "language_info": {
   "codemirror_mode": {
    "name": "ipython",
    "version": 3
   },
   "file_extension": ".py",
   "mimetype": "text/x-python",
   "name": "python",
   "nbconvert_exporter": "python",
   "pygments_lexer": "ipython3",
   "version": "3.7.6"
  }
 },
 "nbformat": 4,
 "nbformat_minor": 4
}
